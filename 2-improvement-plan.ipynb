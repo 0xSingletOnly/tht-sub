{
 "cells": [
  {
   "cell_type": "markdown",
   "id": "3ccb109e",
   "metadata": {},
   "source": [
    "# Havana Take Home Test Planning\n",
    "In this notebook, I will go through the following steps:\n",
    "1. Conduct EDA on the dataset (aim for 40 minutes)\n",
    "2. Using the EDA, plan how we can improve the system (aim for 20 minutes)"
   ]
  },
  {
   "cell_type": "markdown",
   "id": "d90c2df6",
   "metadata": {},
   "source": [
    "## Assumptions\n",
    "- I assume that the human labels are the ground truth, although I know I am supposed to take it as a starting point and not necessarily the ground truth. Suppose I join the company and upon discussion and to our horror, the human labels only have 70% accuracy. Then it is paramount that we create accurate human ground truth before we proceed with all the steps below. \n",
    "- And in the event that human labels have low accuracy, I will suggest picking 50-100 rows of data and manually label them (that will be me doing the job- not enjoyable but essential grunt work). Then we can proceed with the steps that I have outlined.\n",
    "- Since the transcript in the dataset seems to be truncated, I will not proceed with this grounding of human labels."
   ]
  },
  {
   "cell_type": "markdown",
   "id": "774e15f7",
   "metadata": {},
   "source": [
    "## EDA\n",
    "1. Given that the transcript is often short, I assume that most of the conversation data is missing from this dataset for privacy reasons. As such, I will be putting aside analysing the `transcript` column for speed reasons.\n",
    "2. `time_zone` could be interesting, given that it could be a strong factor to misclassifications. I will put this in the back of my mind and see if we have time to further analyse this feature."
   ]
  },
  {
   "cell_type": "code",
   "execution_count": 1,
   "id": "b1fa17db",
   "metadata": {},
   "outputs": [],
   "source": [
    "import pandas as pd\n",
    "import matplotlib.pyplot as plt\n",
    "import numpy as np\n",
    "import seaborn as sns\n",
    "\n",
    "from sklearn.metrics import confusion_matrix\n"
   ]
  },
  {
   "cell_type": "code",
   "execution_count": 2,
   "id": "20ca080a",
   "metadata": {},
   "outputs": [
    {
     "data": {
      "text/html": [
       "<div>\n",
       "<style scoped>\n",
       "    .dataframe tbody tr th:only-of-type {\n",
       "        vertical-align: middle;\n",
       "    }\n",
       "\n",
       "    .dataframe tbody tr th {\n",
       "        vertical-align: top;\n",
       "    }\n",
       "\n",
       "    .dataframe thead th {\n",
       "        text-align: right;\n",
       "    }\n",
       "</style>\n",
       "<table border=\"1\" class=\"dataframe\">\n",
       "  <thead>\n",
       "    <tr style=\"text-align: right;\">\n",
       "      <th></th>\n",
       "      <th>id</th>\n",
       "      <th>transcript</th>\n",
       "      <th>timestamp</th>\n",
       "      <th>time_zone</th>\n",
       "      <th>human_generated_intent</th>\n",
       "      <th>human_generated_intent_time</th>\n",
       "      <th>predicted_intent</th>\n",
       "      <th>predicted_interested_time</th>\n",
       "      <th>predicted_callback_time</th>\n",
       "      <th>Unnamed: 9</th>\n",
       "      <th>comments</th>\n",
       "    </tr>\n",
       "  </thead>\n",
       "  <tbody>\n",
       "    <tr>\n",
       "      <th>0</th>\n",
       "      <td>1</td>\n",
       "      <td>User: Hello?\\nAgent: Hi \\nUser: Hello? \\nAgent...</td>\n",
       "      <td>2025-03-30T11:00:00</td>\n",
       "      <td>Asia/Singapore</td>\n",
       "      <td>voice_wants_call_back</td>\n",
       "      <td>2026-01-01T09:00:00</td>\n",
       "      <td>voice_not_interested</td>\n",
       "      <td>NaN</td>\n",
       "      <td>NaN</td>\n",
       "      <td>NaN</td>\n",
       "      <td>1. find out the mismatch between human and ai ...</td>\n",
       "    </tr>\n",
       "    <tr>\n",
       "      <th>1</th>\n",
       "      <td>2</td>\n",
       "      <td>User: Hello?\\nAgent: Hi \\nUser: Hello? \\nAgent...</td>\n",
       "      <td>2025-03-30T11:00:00</td>\n",
       "      <td>Asia/Singapore</td>\n",
       "      <td>voice_wants_call_back</td>\n",
       "      <td>2025-03-31T09:00:00</td>\n",
       "      <td>voice_wants_call_back</td>\n",
       "      <td>NaN</td>\n",
       "      <td>2025-03-31T18:00:00</td>\n",
       "      <td>NaN</td>\n",
       "      <td>2. do I need to review intent time as well?</td>\n",
       "    </tr>\n",
       "    <tr>\n",
       "      <th>2</th>\n",
       "      <td>3</td>\n",
       "      <td>User: Big o mum. Is mid\\nAgent: Hi there! This...</td>\n",
       "      <td>2025-04-26T12:23:16</td>\n",
       "      <td>Europe/London</td>\n",
       "      <td>voice_wants_call_back</td>\n",
       "      <td>2025-04-26T15:00:00</td>\n",
       "      <td>voice_wants_call_back</td>\n",
       "      <td>NaN</td>\n",
       "      <td>2025-04-26T15:00:00</td>\n",
       "      <td>NaN</td>\n",
       "      <td>3. put in eval faq with this csv and ask claud...</td>\n",
       "    </tr>\n",
       "    <tr>\n",
       "      <th>3</th>\n",
       "      <td>4</td>\n",
       "      <td>Agent: Hi John, I'm David, an AI calling from ...</td>\n",
       "      <td>2025-04-26T12:23:16</td>\n",
       "      <td>Europe/London</td>\n",
       "      <td>voice_wants_call_back</td>\n",
       "      <td>2026-01-01T09:00:00</td>\n",
       "      <td>voice_not_interested</td>\n",
       "      <td>NaN</td>\n",
       "      <td>NaN</td>\n",
       "      <td>NaN</td>\n",
       "      <td>4. for cases with high accuracy, simply automate</td>\n",
       "    </tr>\n",
       "    <tr>\n",
       "      <th>4</th>\n",
       "      <td>5</td>\n",
       "      <td>User: Hello?\\nAgent: Hi Xavier, this is James ...</td>\n",
       "      <td>2025-06-07T10:24:15</td>\n",
       "      <td>Asia/Singapore</td>\n",
       "      <td>voice_wants_call_back</td>\n",
       "      <td>2025-06-07T12:00:00</td>\n",
       "      <td>voice_wants_call_back</td>\n",
       "      <td>NaN</td>\n",
       "      <td>2025-06-07T15:00:00</td>\n",
       "      <td>NaN</td>\n",
       "      <td>NaN</td>\n",
       "    </tr>\n",
       "  </tbody>\n",
       "</table>\n",
       "</div>"
      ],
      "text/plain": [
       "   id                                         transcript            timestamp  \\\n",
       "0   1  User: Hello?\\nAgent: Hi \\nUser: Hello? \\nAgent...  2025-03-30T11:00:00   \n",
       "1   2  User: Hello?\\nAgent: Hi \\nUser: Hello? \\nAgent...  2025-03-30T11:00:00   \n",
       "2   3  User: Big o mum. Is mid\\nAgent: Hi there! This...  2025-04-26T12:23:16   \n",
       "3   4  Agent: Hi John, I'm David, an AI calling from ...  2025-04-26T12:23:16   \n",
       "4   5  User: Hello?\\nAgent: Hi Xavier, this is James ...  2025-06-07T10:24:15   \n",
       "\n",
       "        time_zone human_generated_intent human_generated_intent_time  \\\n",
       "0  Asia/Singapore  voice_wants_call_back         2026-01-01T09:00:00   \n",
       "1  Asia/Singapore  voice_wants_call_back         2025-03-31T09:00:00   \n",
       "2   Europe/London  voice_wants_call_back         2025-04-26T15:00:00   \n",
       "3   Europe/London  voice_wants_call_back         2026-01-01T09:00:00   \n",
       "4  Asia/Singapore  voice_wants_call_back         2025-06-07T12:00:00   \n",
       "\n",
       "        predicted_intent predicted_interested_time predicted_callback_time  \\\n",
       "0   voice_not_interested                       NaN                     NaN   \n",
       "1  voice_wants_call_back                       NaN     2025-03-31T18:00:00   \n",
       "2  voice_wants_call_back                       NaN     2025-04-26T15:00:00   \n",
       "3   voice_not_interested                       NaN                     NaN   \n",
       "4  voice_wants_call_back                       NaN     2025-06-07T15:00:00   \n",
       "\n",
       "   Unnamed: 9                                           comments  \n",
       "0         NaN  1. find out the mismatch between human and ai ...  \n",
       "1         NaN        2. do I need to review intent time as well?  \n",
       "2         NaN  3. put in eval faq with this csv and ask claud...  \n",
       "3         NaN   4. for cases with high accuracy, simply automate  \n",
       "4         NaN                                                NaN  "
      ]
     },
     "execution_count": 2,
     "metadata": {},
     "output_type": "execute_result"
    }
   ],
   "source": [
    "df = pd.read_csv(\"dataset.csv\")\n",
    "df.head()"
   ]
  },
  {
   "cell_type": "code",
   "execution_count": 3,
   "id": "5c171bf9",
   "metadata": {},
   "outputs": [],
   "source": [
    "# drop id column as it is not useful\n",
    "df = df.drop(columns=[\"id\"])\n"
   ]
  },
  {
   "cell_type": "markdown",
   "id": "844307f0",
   "metadata": {},
   "source": [
    "### Bar chart breakdown\n",
    "The purpose is to give us an intuition of what should be done."
   ]
  },
  {
   "cell_type": "code",
   "execution_count": 4,
   "id": "cb3b20ce",
   "metadata": {},
   "outputs": [],
   "source": [
    "human_counts = df[\"human_generated_intent\"].value_counts()\n",
    "pred_counts = df[\"predicted_intent\"].value_counts()\n",
    "\n",
    "all_labels = sorted(set(df[\"human_generated_intent\"]).union(df[\"predicted_intent\"]))"
   ]
  },
  {
   "cell_type": "code",
   "execution_count": 5,
   "id": "61065bff",
   "metadata": {},
   "outputs": [
    {
     "data": {
      "image/png": "[encoded data removed]",
      "text/plain": [
       "<Figure size 1400x500 with 2 Axes>"
      ]
     },
     "metadata": {},
     "output_type": "display_data"
    }
   ],
   "source": [
    "fig, axes = plt.subplots(1, 2, figsize=(14, 5), sharey=True)\n",
    "\n",
    "human_counts.plot(kind=\"bar\", ax=axes[0], title=\"Human Generated Intent\")\n",
    "pred_counts.plot(kind=\"bar\", ax=axes[1], title=\"Predicted Intent\")\n",
    "\n",
    "for ax in axes:\n",
    "    ax.set_xticklabels(all_labels, rotation=45, ha=\"right\")\n",
    "\n",
    "plt.tight_layout()\n",
    "plt.show()"
   ]
  },
  {
   "cell_type": "markdown",
   "id": "90ce390e",
   "metadata": {},
   "source": [
    "On first inspection, there is slight differences in the distribution, but the shape of the distribution across both plots is largely similar. A quick sanity check on this plot also indicates that the labels make sense- e.g. most people would hang up immediately."
   ]
  },
  {
   "cell_type": "markdown",
   "id": "d46b1359",
   "metadata": {},
   "source": [
    "### Misclassification analysis\n",
    "The next step is probably the most important- if we get a sense of the common fail points, then we can:\n",
    "1. work on these fail points, either by adopting prompt engineering (few shot prompting) or improving quality of data (e.g. is the labelling failing because the audio quality sucks?)\n",
    "2. create heuristics for our current workflow such that we can (a) automate some labels since we have high confidence in their accuracy and (b) include them in a test set to run regression testing as we update our classification in step 1"
   ]
  },
  {
   "cell_type": "code",
   "execution_count": 6,
   "id": "0ec2a164",
   "metadata": {},
   "outputs": [
    {
     "data": {
      "image/png": "[encoded data removed]",
      "text/plain": [
       "<Figure size 1000x800 with 2 Axes>"
      ]
     },
     "metadata": {},
     "output_type": "display_data"
    }
   ],
   "source": [
    "cm = confusion_matrix(df[\"human_generated_intent\"], df[\"predicted_intent\"], labels=df[\"human_generated_intent\"].unique())\n",
    "\n",
    "plt.figure(figsize=(10, 8))\n",
    "sns.heatmap(cm, annot=True, fmt=\"d\", \n",
    "            xticklabels=df[\"human_generated_intent\"].unique(), \n",
    "            yticklabels=df[\"human_generated_intent\"].unique(), cmap=\"Blues\")\n",
    "plt.xlabel(\"Predicted\")\n",
    "plt.ylabel(\"Actual\")\n",
    "plt.title(\"Confusion Matrix\")\n",
    "plt.show()"
   ]
  },
  {
   "cell_type": "markdown",
   "id": "5a466a62",
   "metadata": {},
   "source": [
    "On first inspection, this classification matrix actually provides us with good news! Our human labels and predicted labels largely agree with each other, especially on the features that are important:\n",
    "- all the `voice_wants`\n",
    "- `voice_interested`\n",
    "\n",
    "My next inspection involves the misclassification, specifically assuming positive intent when the user wants negative intent and vice versa. To do so, I map each type of intent to a binary class `interested` or `not_interested`. My main goal of doing this is to evaluate:\n",
    "1. any missed opportunities to close (loss of revenue)\n",
    "2. any potential for Havana to get the bad rep as the buggy and stupid AI slop"
   ]
  },
  {
   "cell_type": "code",
   "execution_count": 7,
   "id": "8fcbce52",
   "metadata": {},
   "outputs": [],
   "source": [
    "intent_mapping = {\n",
    "    \"voice_interested\": \"interested\",\n",
    "    \"voice_wants_call_back\": \"interested\",\n",
    "    \"voice_wants_email_follow_up\": \"interested\",\n",
    "    \"voice_wants_whatsapp_sms_follow_up\": \"interested\",\n",
    "    \"voice_no_action\": \"interested\",\n",
    "    \n",
    "    \"voice_not_interested\": \"not_interested\",\n",
    "    \"voice_immediate_hangup\": \"not_interested\",\n",
    "    \"voice_wrong_number\": \"not_interested\",\n",
    "    \"voice_voice_mail\": \"not_interested\",\n",
    "    \"voice_unknown\": \"not_interested\",\n",
    "}"
   ]
  },
  {
   "cell_type": "code",
   "execution_count": 8,
   "id": "c615eef2",
   "metadata": {},
   "outputs": [],
   "source": [
    "df[\"human_bucket\"] = df[\"human_generated_intent\"].map(intent_mapping)\n",
    "df[\"pred_bucket\"] = df[\"predicted_intent\"].map(intent_mapping)"
   ]
  },
  {
   "cell_type": "code",
   "execution_count": 9,
   "id": "392f7f9b",
   "metadata": {},
   "outputs": [],
   "source": [
    "cm = confusion_matrix(df[\"human_bucket\"], df[\"pred_bucket\"], labels=[\"interested\", \"not_interested\"])"
   ]
  },
  {
   "cell_type": "code",
   "execution_count": 10,
   "id": "e9abee3a",
   "metadata": {},
   "outputs": [
    {
     "name": "stdout",
     "output_type": "stream",
     "text": [
      "                      Pred_Interested  Pred_NotInterested\n",
      "Actual_Interested                  32                   4\n",
      "Actual_NotInterested                3                  21\n"
     ]
    }
   ],
   "source": [
    "cm_df = pd.DataFrame(cm,\n",
    "                     index=[\"Actual_Interested\", \"Actual_NotInterested\"],\n",
    "                     columns=[\"Pred_Interested\", \"Pred_NotInterested\"])\n",
    "\n",
    "print(cm_df)"
   ]
  },
  {
   "cell_type": "markdown",
   "id": "5048b591",
   "metadata": {},
   "source": [
    "Quick analysis- we have high accuracy:\n",
    "- (32+21)/(32+4+3+21) = 53/60 ≈ 88%\n",
    "\n",
    "Given that the number of misclassified category is almost the same, I propose we target the misclassification of `Actual_Interested` as `Pred_NotInterested`."
   ]
  },
  {
   "cell_type": "code",
   "execution_count": 11,
   "id": "7f3460bc",
   "metadata": {},
   "outputs": [
    {
     "name": "stdout",
     "output_type": "stream",
     "text": [
      "   human_generated_intent       predicted_intent  count\n",
      "0   voice_wants_call_back   voice_not_interested      3\n",
      "1    voice_not_interested        voice_no_action      2\n",
      "2  voice_immediate_hangup  voice_wants_call_back      1\n",
      "3         voice_no_action          voice_unknown      1\n"
     ]
    }
   ],
   "source": [
    "misclassified = df[df[\"human_bucket\"] != df[\"pred_bucket\"]]\n",
    "\n",
    "mis_summary = misclassified.value_counts([\"human_generated_intent\", \"predicted_intent\"]).reset_index(name=\"count\")\n",
    "\n",
    "print(mis_summary.sort_values(\"count\", ascending=False))\n"
   ]
  },
  {
   "cell_type": "markdown",
   "id": "f9416630",
   "metadata": {},
   "source": [
    "The pair of `voice_not_interested` and `voice_no_action` seems ok, as we will not be proceeding with any next step either case.\n",
    "\n",
    "The pair of `voice_wants_call_back` and `voice_not_interested` is problematic though- it's our top contributor and indicates potential lost revenue- 3/60 = 5% of our dataset, that's significant. Especially if we can improve on this, then it shows Havana's efficacy and we can charge more."
   ]
  },
  {
   "cell_type": "markdown",
   "id": "6e087d30",
   "metadata": {},
   "source": [
    "### High confidence classification\n",
    "Now that we have spotted the fail cases, let's look at the positive cases where we can reduce the manual review."
   ]
  },
  {
   "cell_type": "code",
   "execution_count": 12,
   "id": "4e553b8d",
   "metadata": {},
   "outputs": [],
   "source": [
    "per_intent_accuracy = (\n",
    "    (df[\"human_generated_intent\"] == df[\"predicted_intent\"])\n",
    "    .groupby(df[\"human_generated_intent\"])\n",
    "    .mean()\n",
    "    .reset_index(name=\"accuracy\")\n",
    ")"
   ]
  },
  {
   "cell_type": "code",
   "execution_count": 13,
   "id": "5e8008c4",
   "metadata": {},
   "outputs": [],
   "source": [
    "counts = df[\"human_generated_intent\"].value_counts().reset_index()\n",
    "counts.columns = [\"human_generated_intent\", \"support\"]"
   ]
  },
  {
   "cell_type": "code",
   "execution_count": 14,
   "id": "62ae576f",
   "metadata": {},
   "outputs": [],
   "source": [
    "intent_stats = per_intent_accuracy.merge(counts, on=\"human_generated_intent\")"
   ]
  },
  {
   "cell_type": "code",
   "execution_count": 15,
   "id": "49adeb95",
   "metadata": {},
   "outputs": [
    {
     "name": "stdout",
     "output_type": "stream",
     "text": [
      "               human_generated_intent  accuracy  support  support_pct\n",
      "7         voice_wants_email_follow_up  1.000000        5     0.083333\n",
      "8  voice_wants_whatsapp_sms_follow_up  1.000000        4     0.066667\n",
      "9                  voice_wrong_number  0.800000        5     0.083333\n",
      "6               voice_wants_call_back  0.733333       15     0.250000\n",
      "5                    voice_voice_mail  0.600000        5     0.083333\n",
      "1                    voice_interested  0.500000        6     0.100000\n",
      "2                     voice_no_action  0.500000        6     0.100000\n",
      "0              voice_immediate_hangup  0.300000       10     0.166667\n",
      "3                voice_not_interested  0.000000        3     0.050000\n",
      "4                       voice_unknown  0.000000        1     0.016667\n"
     ]
    }
   ],
   "source": [
    "total_rows = len(df)\n",
    "intent_stats[\"support_pct\"] = intent_stats[\"support\"] / total_rows\n",
    "intent_stats = intent_stats.sort_values(\"accuracy\", ascending=False)\n",
    "print(intent_stats)"
   ]
  },
  {
   "cell_type": "markdown",
   "id": "512b0f55",
   "metadata": {},
   "source": [
    "We see that there are 3 intents where the accuracy is at least 80%. I propose that we automate these three intents to proceed with the next step, and leave the remaining for manual review/approval."
   ]
  },
  {
   "cell_type": "markdown",
   "id": "9e3ed551",
   "metadata": {},
   "source": [
    "## Plan for intent classification\n",
    "### Improving our classification\n",
    "1. Work on reducing the misclassification between `voice_wants_call_back` and `voice_not_interested`. In practice I have to dig into the data and find out why there is a misclassification. Assuming that human labels are accurate, I will consider other approaches like prompt engineering (using few shot prompting), inspecting audio quality etc.\n",
    "2. Focus on improving `voice_wants_call_back`, `voice_voice_mail` and `voice_interested` classifications- these are the classifications that have lower accuracy but still decent support. In addition, these classifications can bring in more revenue.\n",
    "3. Collect and clean more data for `voice_interested`, `voice_no_action` and `voice_immediate_hangup` since these are high frequency but low accuracy.\n",
    "\n",
    "### Reducing manual review\n",
    "1. Automate `voice_wants_email_follow_up`, `voice_wants_whatsapp_sms_follow_up`, `voice_wrong_number`- these are high accuracy. In addition, add these cases into our regression test set so that we can run regression testing as we improve the classification.\n",
    "2. For `voice_wants_call_back` and `voice_voice_mail`, get model to output classification and confidence level so that human can manually review and decide. The aim of the confidence level is to help humans reduce their cognitive load in making decisions."
   ]
  },
  {
   "cell_type": "markdown",
   "id": "6df19f35",
   "metadata": {},
   "source": [
    "## Intent time\n",
    "Next up, we will proceed with analysing intent time. We will filter to get rows where human_generated_intent matches predicted_intent."
   ]
  },
  {
   "cell_type": "code",
   "execution_count": 16,
   "id": "bb69b5b7",
   "metadata": {},
   "outputs": [],
   "source": [
    "correct_preds = df[df[\"human_generated_intent\"] == df[\"predicted_intent\"]].copy()"
   ]
  },
  {
   "cell_type": "code",
   "execution_count": 17,
   "id": "799c0f39",
   "metadata": {},
   "outputs": [],
   "source": [
    "def get_predicted_time(row):\n",
    "    if row[\"predicted_intent\"] == \"voice_interested\":\n",
    "        return row[\"predicted_interested_time\"]\n",
    "    elif row[\"predicted_intent\"] == \"voice_wants_call_back\":\n",
    "        return row[\"predicted_callback_time\"]\n",
    "    else:\n",
    "        return pd.NaT"
   ]
  },
  {
   "cell_type": "code",
   "execution_count": 18,
   "id": "2adfcc0a",
   "metadata": {},
   "outputs": [],
   "source": [
    "correct_preds[\"predicted_time\"] = correct_preds.apply(get_predicted_time, axis=1)"
   ]
  },
  {
   "cell_type": "code",
   "execution_count": 19,
   "id": "c8b1f18e",
   "metadata": {},
   "outputs": [
    {
     "data": {
      "text/html": [
       "<div>\n",
       "<style scoped>\n",
       "    .dataframe tbody tr th:only-of-type {\n",
       "        vertical-align: middle;\n",
       "    }\n",
       "\n",
       "    .dataframe tbody tr th {\n",
       "        vertical-align: top;\n",
       "    }\n",
       "\n",
       "    .dataframe thead th {\n",
       "        text-align: right;\n",
       "    }\n",
       "</style>\n",
       "<table border=\"1\" class=\"dataframe\">\n",
       "  <thead>\n",
       "    <tr style=\"text-align: right;\">\n",
       "      <th></th>\n",
       "      <th>transcript</th>\n",
       "      <th>timestamp</th>\n",
       "      <th>time_zone</th>\n",
       "      <th>human_generated_intent</th>\n",
       "      <th>human_generated_intent_time</th>\n",
       "      <th>predicted_intent</th>\n",
       "      <th>predicted_interested_time</th>\n",
       "      <th>predicted_callback_time</th>\n",
       "      <th>Unnamed: 9</th>\n",
       "      <th>comments</th>\n",
       "      <th>human_bucket</th>\n",
       "      <th>pred_bucket</th>\n",
       "      <th>predicted_time</th>\n",
       "    </tr>\n",
       "  </thead>\n",
       "  <tbody>\n",
       "    <tr>\n",
       "      <th>1</th>\n",
       "      <td>User: Hello?\\nAgent: Hi \\nUser: Hello? \\nAgent...</td>\n",
       "      <td>2025-03-30T11:00:00</td>\n",
       "      <td>Asia/Singapore</td>\n",
       "      <td>voice_wants_call_back</td>\n",
       "      <td>2025-03-31T09:00:00</td>\n",
       "      <td>voice_wants_call_back</td>\n",
       "      <td>NaN</td>\n",
       "      <td>2025-03-31T18:00:00</td>\n",
       "      <td>NaN</td>\n",
       "      <td>2. do I need to review intent time as well?</td>\n",
       "      <td>interested</td>\n",
       "      <td>interested</td>\n",
       "      <td>2025-03-31T18:00:00</td>\n",
       "    </tr>\n",
       "    <tr>\n",
       "      <th>2</th>\n",
       "      <td>User: Big o mum. Is mid\\nAgent: Hi there! This...</td>\n",
       "      <td>2025-04-26T12:23:16</td>\n",
       "      <td>Europe/London</td>\n",
       "      <td>voice_wants_call_back</td>\n",
       "      <td>2025-04-26T15:00:00</td>\n",
       "      <td>voice_wants_call_back</td>\n",
       "      <td>NaN</td>\n",
       "      <td>2025-04-26T15:00:00</td>\n",
       "      <td>NaN</td>\n",
       "      <td>3. put in eval faq with this csv and ask claud...</td>\n",
       "      <td>interested</td>\n",
       "      <td>interested</td>\n",
       "      <td>2025-04-26T15:00:00</td>\n",
       "    </tr>\n",
       "    <tr>\n",
       "      <th>4</th>\n",
       "      <td>User: Hello?\\nAgent: Hi Xavier, this is James ...</td>\n",
       "      <td>2025-06-07T10:24:15</td>\n",
       "      <td>Asia/Singapore</td>\n",
       "      <td>voice_wants_call_back</td>\n",
       "      <td>2025-06-07T12:00:00</td>\n",
       "      <td>voice_wants_call_back</td>\n",
       "      <td>NaN</td>\n",
       "      <td>2025-06-07T15:00:00</td>\n",
       "      <td>NaN</td>\n",
       "      <td>NaN</td>\n",
       "      <td>interested</td>\n",
       "      <td>interested</td>\n",
       "      <td>2025-06-07T15:00:00</td>\n",
       "    </tr>\n",
       "    <tr>\n",
       "      <th>5</th>\n",
       "      <td>User: Hello?\\nAgent: Hi Alan, this is James fr...</td>\n",
       "      <td>2025-06-08T10:24:15</td>\n",
       "      <td>Asia/Singapore</td>\n",
       "      <td>voice_wants_call_back</td>\n",
       "      <td>2025-06-08T14:00:00</td>\n",
       "      <td>voice_wants_call_back</td>\n",
       "      <td>NaN</td>\n",
       "      <td>2025-06-08T14:00:00</td>\n",
       "      <td>NaN</td>\n",
       "      <td>NaN</td>\n",
       "      <td>interested</td>\n",
       "      <td>interested</td>\n",
       "      <td>2025-06-08T14:00:00</td>\n",
       "    </tr>\n",
       "    <tr>\n",
       "      <th>6</th>\n",
       "      <td>User: Hello?\\nAgent: Hi Joel! This is James fr...</td>\n",
       "      <td>2025-06-10T09:02:00</td>\n",
       "      <td>Asia/Singapore</td>\n",
       "      <td>voice_wants_call_back</td>\n",
       "      <td>2025-06-12T09:00:00</td>\n",
       "      <td>voice_wants_call_back</td>\n",
       "      <td>NaN</td>\n",
       "      <td>2025-06-12T09:00:00</td>\n",
       "      <td>NaN</td>\n",
       "      <td>NaN</td>\n",
       "      <td>interested</td>\n",
       "      <td>interested</td>\n",
       "      <td>2025-06-12T09:00:00</td>\n",
       "    </tr>\n",
       "  </tbody>\n",
       "</table>\n",
       "</div>"
      ],
      "text/plain": [
       "                                          transcript            timestamp  \\\n",
       "1  User: Hello?\\nAgent: Hi \\nUser: Hello? \\nAgent...  2025-03-30T11:00:00   \n",
       "2  User: Big o mum. Is mid\\nAgent: Hi there! This...  2025-04-26T12:23:16   \n",
       "4  User: Hello?\\nAgent: Hi Xavier, this is James ...  2025-06-07T10:24:15   \n",
       "5  User: Hello?\\nAgent: Hi Alan, this is James fr...  2025-06-08T10:24:15   \n",
       "6  User: Hello?\\nAgent: Hi Joel! This is James fr...  2025-06-10T09:02:00   \n",
       "\n",
       "        time_zone human_generated_intent human_generated_intent_time  \\\n",
       "1  Asia/Singapore  voice_wants_call_back         2025-03-31T09:00:00   \n",
       "2   Europe/London  voice_wants_call_back         2025-04-26T15:00:00   \n",
       "4  Asia/Singapore  voice_wants_call_back         2025-06-07T12:00:00   \n",
       "5  Asia/Singapore  voice_wants_call_back         2025-06-08T14:00:00   \n",
       "6  Asia/Singapore  voice_wants_call_back         2025-06-12T09:00:00   \n",
       "\n",
       "        predicted_intent predicted_interested_time predicted_callback_time  \\\n",
       "1  voice_wants_call_back                       NaN     2025-03-31T18:00:00   \n",
       "2  voice_wants_call_back                       NaN     2025-04-26T15:00:00   \n",
       "4  voice_wants_call_back                       NaN     2025-06-07T15:00:00   \n",
       "5  voice_wants_call_back                       NaN     2025-06-08T14:00:00   \n",
       "6  voice_wants_call_back                       NaN     2025-06-12T09:00:00   \n",
       "\n",
       "   Unnamed: 9                                           comments human_bucket  \\\n",
       "1         NaN        2. do I need to review intent time as well?   interested   \n",
       "2         NaN  3. put in eval faq with this csv and ask claud...   interested   \n",
       "4         NaN                                                NaN   interested   \n",
       "5         NaN                                                NaN   interested   \n",
       "6         NaN                                                NaN   interested   \n",
       "\n",
       "  pred_bucket       predicted_time  \n",
       "1  interested  2025-03-31T18:00:00  \n",
       "2  interested  2025-04-26T15:00:00  \n",
       "4  interested  2025-06-07T15:00:00  \n",
       "5  interested  2025-06-08T14:00:00  \n",
       "6  interested  2025-06-12T09:00:00  "
      ]
     },
     "execution_count": 19,
     "metadata": {},
     "output_type": "execute_result"
    }
   ],
   "source": [
    "correct_preds.head()"
   ]
  },
  {
   "cell_type": "code",
   "execution_count": 20,
   "id": "aa44b5db",
   "metadata": {},
   "outputs": [],
   "source": [
    "correct_preds[\"human_generated_intent_time\"] = pd.to_datetime(correct_preds[\"human_generated_intent_time\"], errors=\"coerce\")\n",
    "correct_preds[\"predicted_time\"] = pd.to_datetime(correct_preds[\"predicted_time\"], errors=\"coerce\")\n",
    "\n",
    "correct_preds = correct_preds.dropna(subset=[\"predicted_time\", \"human_generated_intent_time\"])"
   ]
  },
  {
   "cell_type": "code",
   "execution_count": 21,
   "id": "3f1dfea4",
   "metadata": {},
   "outputs": [],
   "source": [
    "# calculate time difference in minutes\n",
    "correct_preds[\"time_diff_minutes\"] = (correct_preds[\"predicted_time\"] - correct_preds[\"human_generated_intent_time\"]).dt.total_seconds() / 60.0\n",
    "correct_preds[\"abs_time_diff_minutes\"] = correct_preds[\"time_diff_minutes\"].abs()"
   ]
  },
  {
   "cell_type": "code",
   "execution_count": 22,
   "id": "9f688814",
   "metadata": {},
   "outputs": [
    {
     "name": "stdout",
     "output_type": "stream",
     "text": [
      "        predicted_intent  count          mean  median       max\n",
      "0       voice_interested      2      0.000000     0.0       0.0\n",
      "1  voice_wants_call_back     11  46904.742424   180.0  477540.0\n"
     ]
    }
   ],
   "source": [
    "time_error_stats = correct_preds.groupby(\"predicted_intent\")[\"abs_time_diff_minutes\"].agg([\"count\", \"mean\", \"median\", \"max\"]).reset_index()\n",
    "print(time_error_stats)"
   ]
  },
  {
   "cell_type": "markdown",
   "id": "1c18a490",
   "metadata": {},
   "source": [
    "Huge disparity in 'voice_wants_call_back'. Let's investigate this."
   ]
  },
  {
   "cell_type": "code",
   "execution_count": 23,
   "id": "0aae85db",
   "metadata": {},
   "outputs": [],
   "source": [
    "callback_rows = df[\n",
    "    (df[\"human_generated_intent\"] == \"voice_wants_call_back\") &\n",
    "    (df[\"predicted_intent\"] == \"voice_wants_call_back\")\n",
    "].copy()\n",
    "\n",
    "callback_rows.reset_index(drop=True, inplace=True)"
   ]
  },
  {
   "cell_type": "code",
   "execution_count": 24,
   "id": "ee05b414",
   "metadata": {},
   "outputs": [
    {
     "data": {
      "text/html": [
       "<div>\n",
       "<style scoped>\n",
       "    .dataframe tbody tr th:only-of-type {\n",
       "        vertical-align: middle;\n",
       "    }\n",
       "\n",
       "    .dataframe tbody tr th {\n",
       "        vertical-align: top;\n",
       "    }\n",
       "\n",
       "    .dataframe thead th {\n",
       "        text-align: right;\n",
       "    }\n",
       "</style>\n",
       "<table border=\"1\" class=\"dataframe\">\n",
       "  <thead>\n",
       "    <tr style=\"text-align: right;\">\n",
       "      <th></th>\n",
       "      <th>human_generated_intent_time</th>\n",
       "      <th>predicted_callback_time</th>\n",
       "    </tr>\n",
       "  </thead>\n",
       "  <tbody>\n",
       "    <tr>\n",
       "      <th>0</th>\n",
       "      <td>2025-03-31T09:00:00</td>\n",
       "      <td>2025-03-31T18:00:00</td>\n",
       "    </tr>\n",
       "    <tr>\n",
       "      <th>1</th>\n",
       "      <td>2025-04-26T15:00:00</td>\n",
       "      <td>2025-04-26T15:00:00</td>\n",
       "    </tr>\n",
       "    <tr>\n",
       "      <th>2</th>\n",
       "      <td>2025-06-07T12:00:00</td>\n",
       "      <td>2025-06-07T15:00:00</td>\n",
       "    </tr>\n",
       "    <tr>\n",
       "      <th>3</th>\n",
       "      <td>2025-06-08T14:00:00</td>\n",
       "      <td>2025-06-08T14:00:00</td>\n",
       "    </tr>\n",
       "    <tr>\n",
       "      <th>4</th>\n",
       "      <td>2025-06-12T09:00:00</td>\n",
       "      <td>2025-06-12T09:00:00</td>\n",
       "    </tr>\n",
       "    <tr>\n",
       "      <th>5</th>\n",
       "      <td>2025-06-16T14:00:00</td>\n",
       "      <td>2025-06-16T18:00:00</td>\n",
       "    </tr>\n",
       "    <tr>\n",
       "      <th>6</th>\n",
       "      <td>2025-03-01T09:00:00</td>\n",
       "      <td>2025-03-03T18:00:00</td>\n",
       "    </tr>\n",
       "    <tr>\n",
       "      <th>7</th>\n",
       "      <td>2026-06-01T09:00:00</td>\n",
       "      <td>2025-07-04T18:00:00</td>\n",
       "    </tr>\n",
       "    <tr>\n",
       "      <th>8</th>\n",
       "      <td>2025-07-01T09:00:00</td>\n",
       "      <td>2025-06-07T18:00:00</td>\n",
       "    </tr>\n",
       "    <tr>\n",
       "      <th>9</th>\n",
       "      <td>2025-02-17T11:00:00</td>\n",
       "      <td>2025-02-17T11:12:10</td>\n",
       "    </tr>\n",
       "    <tr>\n",
       "      <th>10</th>\n",
       "      <td>2024-11-28T19:00:00</td>\n",
       "      <td>2024-11-28T19:00:00</td>\n",
       "    </tr>\n",
       "  </tbody>\n",
       "</table>\n",
       "</div>"
      ],
      "text/plain": [
       "   human_generated_intent_time predicted_callback_time\n",
       "0          2025-03-31T09:00:00     2025-03-31T18:00:00\n",
       "1          2025-04-26T15:00:00     2025-04-26T15:00:00\n",
       "2          2025-06-07T12:00:00     2025-06-07T15:00:00\n",
       "3          2025-06-08T14:00:00     2025-06-08T14:00:00\n",
       "4          2025-06-12T09:00:00     2025-06-12T09:00:00\n",
       "5          2025-06-16T14:00:00     2025-06-16T18:00:00\n",
       "6          2025-03-01T09:00:00     2025-03-03T18:00:00\n",
       "7          2026-06-01T09:00:00     2025-07-04T18:00:00\n",
       "8          2025-07-01T09:00:00     2025-06-07T18:00:00\n",
       "9          2025-02-17T11:00:00     2025-02-17T11:12:10\n",
       "10         2024-11-28T19:00:00     2024-11-28T19:00:00"
      ]
     },
     "execution_count": 24,
     "metadata": {},
     "output_type": "execute_result"
    }
   ],
   "source": [
    "callback_rows[['human_generated_intent_time', 'predicted_callback_time']]"
   ]
  },
  {
   "cell_type": "code",
   "execution_count": 25,
   "id": "c99892df",
   "metadata": {},
   "outputs": [],
   "source": [
    "mismatch_rows = callback_rows[callback_rows[\"human_generated_intent_time\"] != callback_rows[\"predicted_callback_time\"]].copy()"
   ]
  },
  {
   "cell_type": "code",
   "execution_count": 26,
   "id": "8feffd54",
   "metadata": {},
   "outputs": [
    {
     "data": {
      "text/html": [
       "<div>\n",
       "<style scoped>\n",
       "    .dataframe tbody tr th:only-of-type {\n",
       "        vertical-align: middle;\n",
       "    }\n",
       "\n",
       "    .dataframe tbody tr th {\n",
       "        vertical-align: top;\n",
       "    }\n",
       "\n",
       "    .dataframe thead th {\n",
       "        text-align: right;\n",
       "    }\n",
       "</style>\n",
       "<table border=\"1\" class=\"dataframe\">\n",
       "  <thead>\n",
       "    <tr style=\"text-align: right;\">\n",
       "      <th></th>\n",
       "      <th>time_zone</th>\n",
       "      <th>human_generated_intent_time</th>\n",
       "      <th>predicted_callback_time</th>\n",
       "    </tr>\n",
       "  </thead>\n",
       "  <tbody>\n",
       "    <tr>\n",
       "      <th>0</th>\n",
       "      <td>Asia/Singapore</td>\n",
       "      <td>2025-03-31T09:00:00</td>\n",
       "      <td>2025-03-31T18:00:00</td>\n",
       "    </tr>\n",
       "    <tr>\n",
       "      <th>2</th>\n",
       "      <td>Asia/Singapore</td>\n",
       "      <td>2025-06-07T12:00:00</td>\n",
       "      <td>2025-06-07T15:00:00</td>\n",
       "    </tr>\n",
       "    <tr>\n",
       "      <th>5</th>\n",
       "      <td>Asia/Singapore</td>\n",
       "      <td>2025-06-16T14:00:00</td>\n",
       "      <td>2025-06-16T18:00:00</td>\n",
       "    </tr>\n",
       "    <tr>\n",
       "      <th>6</th>\n",
       "      <td>Asia/Singapore</td>\n",
       "      <td>2025-03-01T09:00:00</td>\n",
       "      <td>2025-03-03T18:00:00</td>\n",
       "    </tr>\n",
       "    <tr>\n",
       "      <th>7</th>\n",
       "      <td>Asia/Singapore</td>\n",
       "      <td>2026-06-01T09:00:00</td>\n",
       "      <td>2025-07-04T18:00:00</td>\n",
       "    </tr>\n",
       "    <tr>\n",
       "      <th>8</th>\n",
       "      <td>Asia/Singapore</td>\n",
       "      <td>2025-07-01T09:00:00</td>\n",
       "      <td>2025-06-07T18:00:00</td>\n",
       "    </tr>\n",
       "    <tr>\n",
       "      <th>9</th>\n",
       "      <td>Asia/Singapore</td>\n",
       "      <td>2025-02-17T11:00:00</td>\n",
       "      <td>2025-02-17T11:12:10</td>\n",
       "    </tr>\n",
       "  </tbody>\n",
       "</table>\n",
       "</div>"
      ],
      "text/plain": [
       "        time_zone human_generated_intent_time predicted_callback_time\n",
       "0  Asia/Singapore         2025-03-31T09:00:00     2025-03-31T18:00:00\n",
       "2  Asia/Singapore         2025-06-07T12:00:00     2025-06-07T15:00:00\n",
       "5  Asia/Singapore         2025-06-16T14:00:00     2025-06-16T18:00:00\n",
       "6  Asia/Singapore         2025-03-01T09:00:00     2025-03-03T18:00:00\n",
       "7  Asia/Singapore         2026-06-01T09:00:00     2025-07-04T18:00:00\n",
       "8  Asia/Singapore         2025-07-01T09:00:00     2025-06-07T18:00:00\n",
       "9  Asia/Singapore         2025-02-17T11:00:00     2025-02-17T11:12:10"
      ]
     },
     "execution_count": 26,
     "metadata": {},
     "output_type": "execute_result"
    }
   ],
   "source": [
    "mismatch_rows[['time_zone', 'human_generated_intent_time', 'predicted_callback_time']]"
   ]
  },
  {
   "cell_type": "markdown",
   "id": "38693cd6",
   "metadata": {},
   "source": [
    "Most of the time zones listed here are from Asia/Singapore- could this be the reason why there is a significant difference between the human generated and predicted time?"
   ]
  },
  {
   "cell_type": "code",
   "execution_count": 27,
   "id": "6065c7f2",
   "metadata": {},
   "outputs": [],
   "source": [
    "match_rows = callback_rows[callback_rows[\"human_generated_intent_time\"] == callback_rows[\"predicted_callback_time\"]].copy()"
   ]
  },
  {
   "cell_type": "code",
   "execution_count": 28,
   "id": "c543164e",
   "metadata": {},
   "outputs": [
    {
     "data": {
      "text/html": [
       "<div>\n",
       "<style scoped>\n",
       "    .dataframe tbody tr th:only-of-type {\n",
       "        vertical-align: middle;\n",
       "    }\n",
       "\n",
       "    .dataframe tbody tr th {\n",
       "        vertical-align: top;\n",
       "    }\n",
       "\n",
       "    .dataframe thead th {\n",
       "        text-align: right;\n",
       "    }\n",
       "</style>\n",
       "<table border=\"1\" class=\"dataframe\">\n",
       "  <thead>\n",
       "    <tr style=\"text-align: right;\">\n",
       "      <th></th>\n",
       "      <th>time_zone</th>\n",
       "      <th>human_generated_intent_time</th>\n",
       "      <th>predicted_callback_time</th>\n",
       "    </tr>\n",
       "  </thead>\n",
       "  <tbody>\n",
       "    <tr>\n",
       "      <th>1</th>\n",
       "      <td>Europe/London</td>\n",
       "      <td>2025-04-26T15:00:00</td>\n",
       "      <td>2025-04-26T15:00:00</td>\n",
       "    </tr>\n",
       "    <tr>\n",
       "      <th>3</th>\n",
       "      <td>Asia/Singapore</td>\n",
       "      <td>2025-06-08T14:00:00</td>\n",
       "      <td>2025-06-08T14:00:00</td>\n",
       "    </tr>\n",
       "    <tr>\n",
       "      <th>4</th>\n",
       "      <td>Asia/Singapore</td>\n",
       "      <td>2025-06-12T09:00:00</td>\n",
       "      <td>2025-06-12T09:00:00</td>\n",
       "    </tr>\n",
       "    <tr>\n",
       "      <th>10</th>\n",
       "      <td>Asia/Singapore</td>\n",
       "      <td>2024-11-28T19:00:00</td>\n",
       "      <td>2024-11-28T19:00:00</td>\n",
       "    </tr>\n",
       "  </tbody>\n",
       "</table>\n",
       "</div>"
      ],
      "text/plain": [
       "         time_zone human_generated_intent_time predicted_callback_time\n",
       "1    Europe/London         2025-04-26T15:00:00     2025-04-26T15:00:00\n",
       "3   Asia/Singapore         2025-06-08T14:00:00     2025-06-08T14:00:00\n",
       "4   Asia/Singapore         2025-06-12T09:00:00     2025-06-12T09:00:00\n",
       "10  Asia/Singapore         2024-11-28T19:00:00     2024-11-28T19:00:00"
      ]
     },
     "execution_count": 28,
     "metadata": {},
     "output_type": "execute_result"
    }
   ],
   "source": [
    "match_rows[['time_zone', 'human_generated_intent_time', 'predicted_callback_time']]"
   ]
  },
  {
   "cell_type": "markdown",
   "id": "22d3e60e",
   "metadata": {},
   "source": [
    "My initial hypothesis was that time_zone could be an issue why the human label and predicted time are so different. However, this is not the case. More worrisome, the time delta between human labelled and predicted are quite big- some even go up to a few days."
   ]
  },
  {
   "cell_type": "markdown",
   "id": "735aae6c",
   "metadata": {},
   "source": [
    "### Some hypothesis and improvement strategies\n",
    "1. We see some time deltas of a few hours- this could be due to time zone differences across states. Do we account for this in our system?\n",
    "2. For a few minutes differences, this could be an error in the transcription. While tricky, I have spotted only one case of this. In addition, it was a 12 minutes difference, so this may not be the highest priority to work on.\n",
    "3. **My biggest concern is the difference in days**- I'm not sure why this is the issue, but it could be an error in transcription/poor audio quality. I propose that we add a rule-based heuristic to flag a case when the predicted_callback_time is more than a week from the contact date so that we can involve manual review for such cases."
   ]
  },
  {
   "cell_type": "markdown",
   "id": "df5f48cc",
   "metadata": {},
   "source": [
    "## Some final thoughts\n",
    "I spent 1.75 hours on this section- while I exceeded the suggested time by 75%, I believe this is the right approach given that we have to dig deeply into the data to understand what are the root causes.\n",
    "\n",
    "Also note that I did not sketch out a timeline on how to implement the changes that I've suggested. My main concern is the data inspection/quality part, which could vary widely.\n",
    "\n",
    "My rough plan will include:\n",
    "1. Review human labels to ensure that they are accurate- time consuming, but essential.\n",
    "2. Reduce manual review by automating classifications of `voice_wants_email_follow_up`, `voice_wants_whatsapp_sms_follow_up`, `voice_wrong_number`. Given that these are asynchronous follow up methods, we can automate the next step. In addition, we add examples of these classifications for regression testing.\n",
    "3. Work on reducing the misclassification between `voice_wants_call_back` and `voice_not_interested`. This could be due to audio quality, or we may need better prompt engineering.\n",
    "4. Dig into the cause of hours difference- I note that we do handle the timezones of the students. Check if this is accurate- did we explicitly ask them which state they will be in? Else it could be an issue of audio quality- I'm most worried about the hours difference, since minutes difference is tolerable and we can flag days difference (when a predicted call is at least a week away from the last contact)."
   ]
  },
  {
   "cell_type": "markdown",
   "id": "c30a36cb",
   "metadata": {},
   "source": []
  }
 ],
 "metadata": {
  "kernelspec": {
   "display_name": "np",
   "language": "python",
   "name": "python3"
  },
  "language_info": {
   "codemirror_mode": {
    "name": "ipython",
    "version": 3
   },
   "file_extension": ".py",
   "mimetype": "text/x-python",
   "name": "python",
   "nbconvert_exporter": "python",
   "pygments_lexer": "ipython3",
   "version": "3.11.12"
  }
 },
 "nbformat": 4,
 "nbformat_minor": 5
}
